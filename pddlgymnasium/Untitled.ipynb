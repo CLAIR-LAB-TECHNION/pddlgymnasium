{
 "cells": [
  {
   "cell_type": "code",
   "execution_count": 2,
   "id": "caf0b4a0-0cd1-4d54-869f-b072723d5e9c",
   "metadata": {},
   "outputs": [
    {
     "ename": "ModuleNotFoundError",
     "evalue": "No module named 'pddlgymnasium'",
     "output_type": "error",
     "traceback": [
      "\u001b[0;31m---------------------------------------------------------------------------\u001b[0m",
      "\u001b[0;31mModuleNotFoundError\u001b[0m                       Traceback (most recent call last)",
      "Cell \u001b[0;32mIn[2], line 1\u001b[0m\n\u001b[0;32m----> 1\u001b[0m \u001b[38;5;28;01mimport\u001b[39;00m \u001b[38;5;21;01mpddlgymnasium\u001b[39;00m \u001b[38;5;28;01mas\u001b[39;00m \u001b[38;5;21;01mgym\u001b[39;00m\n\u001b[1;32m      2\u001b[0m \u001b[38;5;28;01mimport\u001b[39;00m \u001b[38;5;21;01mimageio\u001b[39;00m\n\u001b[1;32m      4\u001b[0m env \u001b[38;5;241m=\u001b[39m pddlgym\u001b[38;5;241m.\u001b[39mmake(\u001b[38;5;124m\"\u001b[39m\u001b[38;5;124mPDDLEnvBlocks-v0\u001b[39m\u001b[38;5;124m\"\u001b[39m)\n",
      "\u001b[0;31mModuleNotFoundError\u001b[0m: No module named 'pddlgymnasium'"
     ]
    }
   ],
   "source": [
    "import pddlgymnasium as gym\n",
    "import imageio\n",
    "\n",
    "env = pddlgym.make(\"PDDLEnvBlocks-v0\")\n",
    "obs, debug_info = env.reset()\n",
    "img = env.render()\n",
    "imageio.imsave(\"frame1.png\", img)\n",
    "action = env.action_space.sample(obs)\n",
    "obs, reward, done, truncated, debug_info = env.step(action)\n",
    "img = env.render()\n",
    "imageio.imsave(\"frame2.png\", img)"
   ]
  },
  {
   "cell_type": "code",
   "execution_count": null,
   "id": "9cf7e103-6a16-4328-bcb3-247a37941373",
   "metadata": {},
   "outputs": [],
   "source": []
  }
 ],
 "metadata": {
  "kernelspec": {
   "display_name": "Python 3 (ipykernel)",
   "language": "python",
   "name": "python3"
  },
  "language_info": {
   "codemirror_mode": {
    "name": "ipython",
    "version": 3
   },
   "file_extension": ".py",
   "mimetype": "text/x-python",
   "name": "python",
   "nbconvert_exporter": "python",
   "pygments_lexer": "ipython3",
   "version": "3.8.18"
  }
 },
 "nbformat": 4,
 "nbformat_minor": 5
}
