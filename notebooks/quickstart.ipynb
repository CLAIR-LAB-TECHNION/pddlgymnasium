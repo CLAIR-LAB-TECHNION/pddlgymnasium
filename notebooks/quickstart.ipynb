{
 "cells": [
  {
   "cell_type": "markdown",
   "id": "53a84941-29ed-4e13-b5af-6413762695e6",
   "metadata": {},
   "source": [
    "[![Open In Colab](https://colab.research.google.com/assets/colab-badge.svg)](https://colab.research.google.com/github/CLAIR-LAB-TECHNION/pddlgymnasium/blob/master/notebooks/quickstart.ipynb)"
   ]
  },
  {
   "cell_type": "code",
   "execution_count": 1,
   "id": "e8c87e93-6d53-47ea-970f-b2eff6664475",
   "metadata": {},
   "outputs": [],
   "source": [
    "!pip install \"git+https://github.com/CLAIR-LAB-TECHNION/pddlgymnasium\""
   ]
  },
  {
   "cell_type": "code",
   "execution_count": 2,
   "id": "fbcdc2c2-bfaf-4237-86d5-6ce1aa58e933",
   "metadata": {},
   "outputs": [],
   "source": [
    "import pddlgymnasium as gym"
   ]
  },
  {
   "cell_type": "code",
   "execution_count": 3,
   "id": "d0f4c491-a5db-4b5a-b92a-a174778999fe",
   "metadata": {},
   "outputs": [
    {
     "data": {
      "image/png": "[encoded data removed]",
      "text/plain": [
       "<Figure size 480x480 with 1 Axes>"
      ]
     },
     "metadata": {},
     "output_type": "display_data"
    }
   ],
   "source": [
    "env = gym.make(\"PDDLEnvBlocks-v0\")\n",
    "env.unwrapped.fix_problem_index(3)\n",
    "obs, debug_info = env.reset()\n",
    "img = env.render()"
   ]
  },
  {
   "cell_type": "code",
   "execution_count": 4,
   "id": "092aa85b-02ea-4026-99b4-7da65ee65984",
   "metadata": {},
   "outputs": [
    {
     "data": {
      "text/plain": [
       "frozenset({clear(a:block),\n",
       "           clear(e:block),\n",
       "           clear(f:block),\n",
       "           handfull(robot:robot),\n",
       "           holding(d:block),\n",
       "           on(a:block,b:block),\n",
       "           on(b:block,c:block),\n",
       "           ontable(c:block),\n",
       "           ontable(e:block),\n",
       "           ontable(f:block)})"
      ]
     },
     "execution_count": 4,
     "metadata": {},
     "output_type": "execute_result"
    }
   ],
   "source": [
    "obs.literals"
   ]
  },
  {
   "cell_type": "code",
   "execution_count": 5,
   "id": "ea554e26-7be6-4f13-8961-4d48ab8a3154",
   "metadata": {},
   "outputs": [
    {
     "data": {
      "text/plain": [
       "{pickup(a:block),\n",
       " pickup(b:block),\n",
       " pickup(c:block),\n",
       " pickup(d:block),\n",
       " pickup(e:block),\n",
       " pickup(f:block),\n",
       " putdown(a:block),\n",
       " putdown(b:block),\n",
       " putdown(c:block),\n",
       " putdown(d:block),\n",
       " putdown(e:block),\n",
       " putdown(f:block),\n",
       " stack(a:block,b:block),\n",
       " stack(a:block,c:block),\n",
       " stack(a:block,d:block),\n",
       " stack(a:block,e:block),\n",
       " stack(a:block,f:block),\n",
       " stack(b:block,a:block),\n",
       " stack(b:block,c:block),\n",
       " stack(b:block,d:block),\n",
       " stack(b:block,e:block),\n",
       " stack(b:block,f:block),\n",
       " stack(c:block,a:block),\n",
       " stack(c:block,b:block),\n",
       " stack(c:block,d:block),\n",
       " stack(c:block,e:block),\n",
       " stack(c:block,f:block),\n",
       " stack(d:block,a:block),\n",
       " stack(d:block,b:block),\n",
       " stack(d:block,c:block),\n",
       " stack(d:block,e:block),\n",
       " stack(d:block,f:block),\n",
       " stack(e:block,a:block),\n",
       " stack(e:block,b:block),\n",
       " stack(e:block,c:block),\n",
       " stack(e:block,d:block),\n",
       " stack(e:block,f:block),\n",
       " stack(f:block,a:block),\n",
       " stack(f:block,b:block),\n",
       " stack(f:block,c:block),\n",
       " stack(f:block,d:block),\n",
       " stack(f:block,e:block),\n",
       " unstack(a:block),\n",
       " unstack(b:block),\n",
       " unstack(c:block),\n",
       " unstack(d:block),\n",
       " unstack(e:block),\n",
       " unstack(f:block)}"
      ]
     },
     "execution_count": 5,
     "metadata": {},
     "output_type": "execute_result"
    }
   ],
   "source": [
    "env.action_space.all_ground_literals(obs)"
   ]
  },
  {
   "cell_type": "code",
   "execution_count": 6,
   "id": "0323b712-2e4b-4ae4-a161-6a25c08e56ea",
   "metadata": {},
   "outputs": [
    {
     "data": {
      "text/plain": [
       "putdown(d:block)"
      ]
     },
     "execution_count": 6,
     "metadata": {},
     "output_type": "execute_result"
    }
   ],
   "source": [
    "from pddlgymnasium.structs import Type, Literal, Predicate\n",
    "\n",
    "# putdown(d:block),\n",
    "operator = Predicate(name='putdown', arity=1)\n",
    "variable = Type('block')('d')\n",
    "action = Literal(predicate=operator, variables=[variable])\n",
    "action"
   ]
  },
  {
   "cell_type": "code",
   "execution_count": 7,
   "id": "789a0627-2e18-49d3-b40e-daa86d5923d7",
   "metadata": {},
   "outputs": [
    {
     "data": {
      "image/png": "[encoded data removed]",
      "text/plain": [
       "<Figure size 480x480 with 1 Axes>"
      ]
     },
     "metadata": {},
     "output_type": "display_data"
    }
   ],
   "source": [
    "obs, reward, done, truncated, debug_info = env.step(action)\n",
    "img = env.render()"
   ]
  },
  {
   "cell_type": "code",
   "execution_count": null,
   "id": "bc0079ce-983d-444a-a7e5-7e7e71587fdd",
   "metadata": {},
   "outputs": [],
   "source": []
  }
 ],
 "metadata": {
  "kernelspec": {
   "display_name": "Python 3 (ipykernel)",
   "language": "python",
   "name": "python3"
  },
  "language_info": {
   "codemirror_mode": {
    "name": "ipython",
    "version": 3
   },
   "file_extension": ".py",
   "mimetype": "text/x-python",
   "name": "python",
   "nbconvert_exporter": "python",
   "pygments_lexer": "ipython3",
   "version": "3.8.18"
  }
 },
 "nbformat": 4,
 "nbformat_minor": 5
}
